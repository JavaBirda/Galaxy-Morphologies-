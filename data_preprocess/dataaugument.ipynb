{
 "cells": [
  {
   "cell_type": "code",
   "execution_count": null,
   "metadata": {},
   "outputs": [],
   "source": [
    "import cv2\n",
    "import os\n"
   ]
  },
  {
   "cell_type": "code",
   "execution_count": null,
   "metadata": {},
   "outputs": [],
   "source": [
    "lis=list(os.listdir('images_needed'))"
   ]
  },
  {
   "cell_type": "code",
   "execution_count": null,
   "metadata": {},
   "outputs": [],
   "source": [
    "len(lis)"
   ]
  },
  {
   "cell_type": "code",
   "execution_count": null,
   "metadata": {},
   "outputs": [],
   "source": [
    "lis[1][0:6]"
   ]
  },
  {
   "cell_type": "code",
   "execution_count": null,
   "metadata": {},
   "outputs": [],
   "source": [
    " print('==============')\n",
    "for i in range(len(lis)):\n",
    "    img=cv2.imread('images_needed_augument/{}'.format(lis[i]))\n",
    "    rows,cols,_ = img.shape\n",
    "    matrix90 = cv2.getRotationMatrix2D((cols/2,rows/2),90,1)\n",
    "# 得到变换的矩阵，通过这个矩阵再利用warpAffine来进行变换\n",
    "# 第一个参数就是旋转中心，元组的形式，这里设置成相片中心\n",
    "# 第二个参数90，是旋转的角度\n",
    "# 第三个参数1，表示放缩的系数，1表示保持原图大小\n",
    "\n",
    "    img1 = cv2.warpAffine(img,matrix90,(cols,rows))\n",
    "    cv2.imwrite('images_needed_augument/{}(90).jpg'.format(lis[i][0:6]),img1)\n",
    "    matrix180 = cv2.getRotationMatrix2D((cols/2,rows/2),180,1)\n",
    "    img2=cv2.warpAffine(img,matrix180,(cols,rows))\n",
    "    cv2.imwrite('images_needed_augument/{}(180).jpg'.format(lis[i][0:6]),img2)\n",
    "    matrix270 = cv2.getRotationMatrix2D((cols/2,rows/2),270,1)\n",
    "    img3=cv2.warpAffine(img,matrix270,(cols,rows))\n",
    "    cv2.imwrite('images_needed_augument/{}(270).jpg'.format(lis[i][0:6]),img3)\n",
    "    print(i)\n",
    "print('-----------')"
   ]
  },
  {
   "cell_type": "code",
   "execution_count": null,
   "metadata": {},
   "outputs": [],
   "source": [
    "lis=list(os.listdir('images_needed_augument'))"
   ]
  },
  {
   "cell_type": "code",
   "execution_count": null,
   "metadata": {},
   "outputs": [],
   "source": [
    "len(lis)"
   ]
  },
  {
   "cell_type": "code",
   "execution_count": null,
   "metadata": {},
   "outputs": [],
   "source": []
  }
 ],
 "metadata": {
  "kernelspec": {
   "display_name": "Python 3",
   "language": "python",
   "name": "python3"
  },
  "language_info": {
   "codemirror_mode": {
    "name": "ipython",
    "version": 3
   },
   "file_extension": ".py",
   "mimetype": "text/x-python",
   "name": "python",
   "nbconvert_exporter": "python",
   "pygments_lexer": "ipython3",
   "version": "3.7.3"
  }
 },
 "nbformat": 4,
 "nbformat_minor": 2
}
